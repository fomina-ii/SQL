{
 "cells": [
  {
   "cell_type": "markdown",
   "metadata": {},
   "source": [
    "# SQL"
   ]
  },
  {
   "cell_type": "code",
   "execution_count": 25,
   "metadata": {},
   "outputs": [],
   "source": [
    "import pandahouse as ph"
   ]
  },
  {
   "cell_type": "code",
   "execution_count": 26,
   "metadata": {},
   "outputs": [],
   "source": [
    "#объявляем параметры подключения\n",
    "connection = dict(database='test',\n",
    "                  host='https://clickhouse.lab.karpov.courses',\n",
    "                  user='user',\n",
    "                  password='password')"
   ]
  },
  {
   "cell_type": "markdown",
   "metadata": {},
   "source": [
    "### Очень усердные ученики\n",
    "Необходимо написать оптимальный запрос, который даст информацию о количестве очень усердных студентов.\n",
    "\n",
    "*Под усердным студентом мы понимаем студента, который правильно решил 20 задач за текущий месяц.*\n",
    "При этом в таблице присутствуют данные только за октябрь, поэтому дату в запросе отображать не будем."
   ]
  },
  {
   "cell_type": "code",
   "execution_count": 27,
   "metadata": {},
   "outputs": [
    {
     "name": "stdout",
     "output_type": "stream",
     "text": [
      "Количество очень усердных студентов: 136\n"
     ]
    }
   ],
   "source": [
    "#пишем запрос, и получаем данные из clickhouse в pandas dataframe\n",
    "query = \"\"\"\n",
    "SELECT\n",
    "    st_id AS st_id,\n",
    "    SUM(correct) AS correct\n",
    "FROM peas\n",
    "GROUP BY\n",
    "    st_id\n",
    "HAVING\n",
    "    correct >= '20'\n",
    "\"\"\"\n",
    "default_peas = ph.read_clickhouse(query, connection=connection)\n",
    "print('Количество очень усердных студентов:', len(default_peas))"
   ]
  },
  {
   "cell_type": "markdown",
   "metadata": {},
   "source": [
    "### Оптимизация воронки\n",
    "\n",
    "Необходимо в одном запросе выгрузить следующую информацию о группах пользователей:\n",
    "* ARPU (Average Revenue Per User) — сумма денег, которую приносит каждый пользователь в потоке\n",
    "* ARPAU (Average Revenue Per Active User) — средний доход на активного пользователя \n",
    "* CR в покупку (в процентах)\n",
    "* СR активного пользователя в покупку (в процентах) \n",
    "* CR пользователя из активности по математике (subject = ’math’) в покупку курса по математике (в процентах)\n",
    "\n",
    "ARPU считается относительно всех пользователей, попавших в группы.\n",
    "\n",
    "Активным считается пользователь, за все время решивший больше 10 задач правильно в любых дисциплинах.\n",
    "\n",
    "Активным по математике считается пользователь, за все время решивший 2 или больше задач правильно по математике.\n"
   ]
  },
  {
   "cell_type": "code",
   "execution_count": 72,
   "metadata": {},
   "outputs": [
    {
     "data": {
      "text/html": [
       "<div>\n",
       "<style scoped>\n",
       "    .dataframe tbody tr th:only-of-type {\n",
       "        vertical-align: middle;\n",
       "    }\n",
       "\n",
       "    .dataframe tbody tr th {\n",
       "        vertical-align: top;\n",
       "    }\n",
       "\n",
       "    .dataframe thead th {\n",
       "        text-align: right;\n",
       "    }\n",
       "</style>\n",
       "<table border=\"1\" class=\"dataframe\">\n",
       "  <thead>\n",
       "    <tr style=\"text-align: right;\">\n",
       "      <th></th>\n",
       "      <th>test_group</th>\n",
       "      <th>ARPU</th>\n",
       "      <th>ARPAU</th>\n",
       "      <th>CR</th>\n",
       "      <th>CR_active</th>\n",
       "      <th>CR_math</th>\n",
       "    </tr>\n",
       "  </thead>\n",
       "  <tbody>\n",
       "    <tr>\n",
       "      <th>0</th>\n",
       "      <td>control</td>\n",
       "      <td>4540.98</td>\n",
       "      <td>4327.86</td>\n",
       "      <td>4.91</td>\n",
       "      <td>11.02</td>\n",
       "      <td>16.32</td>\n",
       "    </tr>\n",
       "    <tr>\n",
       "      <th>1</th>\n",
       "      <td>pilot</td>\n",
       "      <td>11508.47</td>\n",
       "      <td>9677.96</td>\n",
       "      <td>10.84</td>\n",
       "      <td>26.04</td>\n",
       "      <td>38.09</td>\n",
       "    </tr>\n",
       "  </tbody>\n",
       "</table>\n",
       "</div>"
      ],
      "text/plain": [
       "  test_group      ARPU    ARPAU     CR  CR_active  CR_math\n",
       "0    control   4540.98  4327.86   4.91      11.02    16.32\n",
       "1      pilot  11508.47  9677.96  10.84      26.04    38.09"
      ]
     },
     "execution_count": 72,
     "metadata": {},
     "output_type": "execute_result"
    }
   ],
   "source": [
    "#пишем запрос, и получаем данные из clickhouse в pandas dataframe\n",
    "query = \"\"\"\n",
    "SELECT\n",
    "    test_grp AS test_group,\n",
    "    floor(AVG(revenue), 2) AS ARPU,\n",
    "    floor(AVG(rev_active), 2) AS ARPAU,\n",
    "    floor(AVG(CASE WHEN revenue > 0 THEN 1 ELSE 0 END), 4)*100 AS CR, -- в процентах\n",
    "    floor(SUM(revenue > 0 and correct > 10) / SUM(correct > 10), 4)*100 AS CR_active, -- в процентах\n",
    "    floor(SUM(rev_math = 1) / SUM(correct_math = 1), 4)*100 AS CR_math -- в процентах\n",
    "FROM\n",
    "    (\n",
    "    SELECT\n",
    "        A.st_id AS st_id,\n",
    "        A.test_grp AS test_grp,\n",
    "        B.revenue AS revenue,\n",
    "        C.correct AS correct,\n",
    "        CASE WHEN C.correct > 10 THEN B.revenue ELSE 0 END AS rev_active,\n",
    "        B.rev_math AS rev_math,\n",
    "        C.correct_math AS correct_math\n",
    "    FROM studs AS A\n",
    "    \n",
    "LEFT JOIN\n",
    "        (\n",
    "        SELECT\n",
    "            st_id,\n",
    "            SUM(money) AS revenue,\n",
    "            MAX(CASE WHEN subject = 'Math' THEN 1 ELSE 0 END) AS rev_math\n",
    "        FROM\n",
    "            final_project_check \n",
    "        GROUP BY\n",
    "            st_id\n",
    "        ) AS B \n",
    "ON A.st_id = B.st_id\n",
    "\n",
    "LEFT JOIN\n",
    "        (\n",
    "        SELECT\n",
    "            st_id,\n",
    "            SUM(correct) AS correct,\n",
    "            SUM(math) AS correct_math\n",
    "        FROM\n",
    "            (\n",
    "            SELECT\n",
    "                st_id,\n",
    "                SUM(correct) AS correct,\n",
    "                CASE WHEN subject = 'Math' and correct >= 2 THEN 1 ELSE 0 END AS math\n",
    "            FROM peas\n",
    "            GROUP BY\n",
    "                st_id,\n",
    "                subject\n",
    "            )\n",
    "        GROUP BY st_id\n",
    "        ) AS C\n",
    "ON A.st_id = C.st_id\n",
    "    )\n",
    "GROUP BY test_group\n",
    "\"\"\"\n",
    "metrics = ph.read_clickhouse(query, connection=connection)\n",
    "metrics"
   ]
  },
  {
   "cell_type": "code",
   "execution_count": null,
   "metadata": {},
   "outputs": [],
   "source": []
  }
 ],
 "metadata": {
  "kernelspec": {
   "display_name": "Python 3",
   "language": "python",
   "name": "python3"
  },
  "language_info": {
   "codemirror_mode": {
    "name": "ipython",
    "version": 3
   },
   "file_extension": ".py",
   "mimetype": "text/x-python",
   "name": "python",
   "nbconvert_exporter": "python",
   "pygments_lexer": "ipython3",
   "version": "3.7.3"
  }
 },
 "nbformat": 4,
 "nbformat_minor": 4
}
